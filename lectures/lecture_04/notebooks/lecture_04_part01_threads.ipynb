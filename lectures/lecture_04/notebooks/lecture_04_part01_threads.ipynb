{
 "cells": [
  {
   "cell_type": "code",
   "execution_count": 1,
   "metadata": {},
   "outputs": [],
   "source": [
    "import random\n",
    "import time\n",
    "import threading"
   ]
  },
  {
   "cell_type": "code",
   "execution_count": 2,
   "metadata": {},
   "outputs": [
    {
     "name": "stdout",
     "output_type": "stream",
     "text": [
      "I am alife 0\n",
      "I am alife 1\n",
      "I am alife 2\n",
      "I am alife 3\n",
      "I am alife 4\n"
     ]
    }
   ],
   "source": [
    "def sleep(inter_num, interval):\n",
    "    for i in range(inter_num):\n",
    "        print(\"I am alife {}\".format(i))\n",
    "        time.sleep(interval)\n",
    "t = threading.Thread(target=sleep, args=(5, 1))\n",
    "t.start()"
   ]
  },
  {
   "cell_type": "code",
   "execution_count": 3,
   "metadata": {},
   "outputs": [
    {
     "name": "stdout",
     "output_type": "stream",
     "text": [
      "I am alife 0\n",
      "I am boss 0\n",
      "I am alife 1I am boss 1\n",
      "\n",
      "I am boss 2I am alife 2\n",
      "\n",
      "I am alife 3I am boss 3\n",
      "\n",
      "I am alife 4I am boss 4\n",
      "\n"
     ]
    }
   ],
   "source": [
    "# TODO: давайте починим output\n",
    "\n",
    "\n",
    "def sleep(inter_num , interval):\n",
    "    for i in range(inter_num):\n",
    "        print(\"I am alife {}\".format(i))\n",
    "        time.sleep(interval)\n",
    "\n",
    "inter_num = 5\n",
    "interval = 1\n",
    "\n",
    "t = threading.Thread(target=sleep, args=(inter_num, interval))\n",
    "t.start()\n",
    "\n",
    "for i in range(inter_num):\n",
    "    print(\"I am boss {}\".format(i))\n",
    "    time.sleep(interval)"
   ]
  },
  {
   "cell_type": "code",
   "execution_count": 6,
   "metadata": {},
   "outputs": [
    {
     "name": "stdout",
     "output_type": "stream",
     "text": [
      "I am alife 0 my name VladI am boss 0\n",
      "\n",
      "I am alife 1 my name VladI am boss 1\n",
      "\n",
      "I am alife 2 my name Vlad\n",
      "I am boss 2\n",
      "I am alife 3 my name Vlad\n",
      "I am boss 3\n",
      "I am alife 4 my name VladI am boss 4\n",
      "\n"
     ]
    }
   ],
   "source": [
    "class Sleeper(threading.Thread):\n",
    "    def __init__(self, name, inter_num, interval):\n",
    "        super().__init__()\n",
    "        self.name = name\n",
    "        self.iter_num = inter_num\n",
    "        self.interval = interval\n",
    "    \n",
    "    def run(self):\n",
    "        for i in range(self.iter_num):\n",
    "            print(\"I am alife {} my name {}\".format(i, self.name))\n",
    "            time.sleep(self.interval)\n",
    "\n",
    "inter_num = 5\n",
    "interval = 1\n",
    "            \n",
    "t = Sleeper(\"Ilya\", inter_num, interval)\n",
    "t.start()\n",
    "\n",
    "for i in range(inter_num):\n",
    "    print(\"I am boss {}\".format(i))\n",
    "    time.sleep(interval)"
   ]
  },
  {
   "cell_type": "code",
   "execution_count": null,
   "metadata": {
    "collapsed": true
   },
   "outputs": [],
   "source": [
    "# TODO: Создадим 6 потоков по числу преподов Vlad, Zarina, Misha, Ilya, Vlad, Anton"
   ]
  },
  {
   "cell_type": "code",
   "execution_count": 8,
   "metadata": {},
   "outputs": [
    {
     "name": "stdout",
     "output_type": "stream",
     "text": [
      "I am alife 0 my name Ilya\n",
      "I am alife 1 my name Ilya\n",
      "I am alife 2 my name Ilya\n",
      "I am alife 3 my name Ilya\n",
      "I am alife 4 my name Ilya\n",
      "I am boss 0\n",
      "I am boss 1\n",
      "I am boss 2\n",
      "I am boss 3\n",
      "I am boss 4\n"
     ]
    }
   ],
   "source": [
    "# join\n",
    "class Sleeper(threading.Thread):\n",
    "    def __init__(self, name, inter_num, interval):\n",
    "        super().__init__()\n",
    "        self.name = name\n",
    "        self.iter_num = inter_num\n",
    "        self.interval = interval\n",
    "    \n",
    "    def run(self):\n",
    "        for i in range(self.iter_num):\n",
    "            print(\"I am alife {} my name {}\".format(i, self.name))\n",
    "            time.sleep(self.interval)\n",
    "\n",
    "inter_num = 5\n",
    "interval = 1\n",
    "            \n",
    "t = Sleeper(\"Ilya\", inter_num, interval)\n",
    "t.start()\n",
    "t.join()\n",
    "\n",
    "for i in range(inter_num):\n",
    "    print(\"I am boss {}\".format(i))\n",
    "    time.sleep(interval)"
   ]
  },
  {
   "cell_type": "code",
   "execution_count": null,
   "metadata": {
    "collapsed": true
   },
   "outputs": [],
   "source": [
    "# TODO: Заставим преподов из задачки выше говорить последовательно"
   ]
  },
  {
   "cell_type": "code",
   "execution_count": 39,
   "metadata": {},
   "outputs": [],
   "source": [
    "class DollarsAccount:\n",
    "    def __init__(self, dollars_amount):\n",
    "        self._dollars = dollars_amount"
   ]
  },
  {
   "cell_type": "code",
   "execution_count": 45,
   "metadata": {},
   "outputs": [],
   "source": [
    "class Inflation(threading.Thread):\n",
    "    def __init__(self, name, account, amount, iter_num):\n",
    "        super().__init__()\n",
    "        self.name = name\n",
    "        self.account = account\n",
    "        self.amount = amount\n",
    "        self.iter_num = iter_num\n",
    "    \n",
    "    def run(self):\n",
    "        print(\"My name {} account id {}\".format(self.name, id(self.amount)))\n",
    "        for i in range(self.iter_num):\n",
    "            self.account._dollars -= self.amount\n",
    "            \n",
    "class DepositCap(threading.Thread):\n",
    "    def __init__(self, name, account, amount, iter_num):\n",
    "        super().__init__()\n",
    "        self.name = name\n",
    "        self.account = account\n",
    "        self.amount = amount\n",
    "        self.iter_num = iter_num\n",
    "    \n",
    "    def run(self):\n",
    "        print(\"My name {} account id {}\".format(self.name, id(self.amount)))\n",
    "        for i in range(self.iter_num):\n",
    "            self.account._dollars += self.amount"
   ]
  },
  {
   "cell_type": "code",
   "execution_count": 48,
   "metadata": {},
   "outputs": [
    {
     "name": "stdout",
     "output_type": "stream",
     "text": [
      "My name inflation account id 4405659040\n",
      "My name DepositCap account id 4405659040\n",
      "29297\n"
     ]
    }
   ],
   "source": [
    "dac = DollarsAccount(50)\n",
    "inflation = Inflation(\"inflation\", dac, 1, 100000)      \n",
    "deposit = DepositCap(\"DepositCap\", dac, 1, 100000)\n",
    "\n",
    "inflation.start()\n",
    "deposit.start()\n",
    "inflation.join()\n",
    "deposit.join()\n",
    "print(dac._dollars)"
   ]
  },
  {
   "cell_type": "code",
   "execution_count": 49,
   "metadata": {},
   "outputs": [],
   "source": [
    "class Inflation(threading.Thread):\n",
    "    def __init__(self, name, account, amount, iter_num):\n",
    "        super().__init__()\n",
    "        self.name = name\n",
    "        self.account = account\n",
    "        self.amount = amount\n",
    "        self.iter_num = iter_num\n",
    "        self.lock = threading.Lock()\n",
    "    \n",
    "    def run(self):\n",
    "        print(\"My name {} account id {}\".format(self.name, id(self.amount)))\n",
    "        for i in range(self.iter_num):\n",
    "            self.lock.acquire()\n",
    "            self.account._dollars -= self.amount\n",
    "            self.lock.release()\n",
    "            \n",
    "class DepositCap(threading.Thread):\n",
    "    def __init__(self, name, account, amount, iter_num):\n",
    "        super().__init__()\n",
    "        self.name = name\n",
    "        self.account = account\n",
    "        self.amount = amount\n",
    "        self.iter_num = iter_num\n",
    "        self.lock = threading.Lock()\n",
    "    \n",
    "    def run(self):\n",
    "        print(\"My name {} account id {}\".format(self.name, id(self.amount)))\n",
    "        for i in range(self.iter_num):\n",
    "            self.lock.acquire()\n",
    "            self.account._dollars += self.amount\n",
    "            self.lock.release()"
   ]
  },
  {
   "cell_type": "code",
   "execution_count": 72,
   "metadata": {},
   "outputs": [
    {
     "name": "stdout",
     "output_type": "stream",
     "text": [
      "My name inflation account id 4405659168\n",
      "My name DepositCap account id 4405659168\n",
      "181770\n"
     ]
    }
   ],
   "source": [
    "dac = DollarsAccount(50)\n",
    "inflation = Inflation(\"inflation\", dac, 5, 100000)      \n",
    "deposit = DepositCap(\"DepositCap\", dac, 5, 100000)\n",
    "\n",
    "inflation.start()\n",
    "deposit.start()\n",
    "inflation.join()\n",
    "deposit.join()\n",
    "print(dac._dollars)\n",
    "\n",
    "#Почему не сработало?"
   ]
  },
  {
   "cell_type": "code",
   "execution_count": 103,
   "metadata": {},
   "outputs": [
    {
     "name": "stdout",
     "output_type": "stream",
     "text": [
      "My name inflation account id 4405659168\n",
      "My name DepositCap account id 4405659168\n",
      "50\n"
     ]
    }
   ],
   "source": [
    "class Inflation(threading.Thread):\n",
    "    def __init__(self, name, account, amount, iter_num, lock):\n",
    "        super().__init__()\n",
    "        self.name = name\n",
    "        self.account = account\n",
    "        self.amount = amount\n",
    "        self.iter_num = iter_num\n",
    "        self.lock = lock\n",
    "    \n",
    "    def run(self):\n",
    "        print(\"My name {} account id {}\".format(self.name, id(self.amount)))\n",
    "        for i in range(self.iter_num):\n",
    "            with self.lock:\n",
    "                self.account._dollars -= self.amount\n",
    "            \n",
    "class DepositCap(threading.Thread):\n",
    "    def __init__(self, name, account, amount, iter_num, lock):\n",
    "        super().__init__()\n",
    "        self.name = name\n",
    "        self.account = account\n",
    "        self.amount = amount\n",
    "        self.iter_num = iter_num\n",
    "        self.lock = lock\n",
    "    \n",
    "    def run(self):\n",
    "        print(\"My name {} account id {}\".format(self.name, id(self.amount)))\n",
    "        for i in range(self.iter_num):\n",
    "            with self.lock:\n",
    "                self.account._dollars += self.amount\n",
    "            \n",
    "dac = DollarsAccount(50)\n",
    "lock = threading.Lock()\n",
    "inflation = Inflation(\"inflation\", dac, 5, 100000, lock)      \n",
    "deposit = DepositCap(\"DepositCap\", dac, 5, 100000, lock)\n",
    "\n",
    "inflation.start()\n",
    "deposit.start()\n",
    "inflation.join()\n",
    "deposit.join()\n",
    "print(dac._dollars)"
   ]
  },
  {
   "cell_type": "code",
   "execution_count": null,
   "metadata": {},
   "outputs": [],
   "source": [
    "import threading, time\n",
    "\n",
    "a = 5\n",
    "alock = threading.Lock()\n",
    "b = 5\n",
    "block = threading.Lock()\n",
    "\n",
    "def thread1calc():\n",
    "    print(\"Thread1 acquiring lock a\")\n",
    "    alock.acquire()\n",
    "    time.sleep(5)\n",
    "\n",
    "    print(\"Thread1 acquiring lock b\")\n",
    "    block.acquire()\n",
    "    time.sleep(5)\n",
    "    a += 5\n",
    "    b += 5\n",
    "\n",
    "    print(\"Thread1 releasing both locks\")\n",
    "    block.release()\n",
    "    alock.release()\n",
    "\n",
    "def thread2calc():\n",
    "    print (\"Thread2 acquiring lock b\")\n",
    "    block.acquire()\n",
    "    time.sleep(5)\n",
    "\n",
    "    print(\"Thread2 acquiring lock a\")\n",
    "    alock.acquire()\n",
    "    time.sleep(5)\n",
    "    a += 10\n",
    "    b += 10\n",
    "\n",
    "    print(\"Thread2 releasing both locks\")\n",
    "    block.release()\n",
    "    alock.release()\n",
    "\n",
    "t1 = threading.Thread(target = thread1calc)\n",
    "t1.start()\n",
    "\n",
    "t2 = threading.Thread(target = thread2calc)\n",
    "t2.start()\n",
    "\n",
    "t1.join()\n",
    "t2.join()"
   ]
  }
 ],
 "metadata": {
  "anaconda-cloud": {},
  "kernelspec": {
   "display_name": "Python 3",
   "language": "python",
   "name": "python3"
  }
 },
 "nbformat": 4,
 "nbformat_minor": 1
}
