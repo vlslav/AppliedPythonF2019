{
 "cells": [
  {
   "cell_type": "code",
   "execution_count": null,
   "metadata": {
    "scrolled": true
   },
   "outputs": [],
   "source": [
    "!pip install redis"
   ]
  },
  {
   "cell_type": "markdown",
   "metadata": {},
   "source": [
    "# Попробуем сходить в редис"
   ]
  },
  {
   "cell_type": "code",
   "execution_count": null,
   "metadata": {},
   "outputs": [],
   "source": [
    "import redis"
   ]
  },
  {
   "cell_type": "code",
   "execution_count": null,
   "metadata": {},
   "outputs": [],
   "source": [
    "r = redis.StrictRedis(host='', port=6379, db=0)\n",
    "r.set('student{}', #YOUR name)\n",
    "r.get('student{}')"
   ]
  },
  {
   "cell_type": "code",
   "execution_count": null,
   "metadata": {},
   "outputs": [],
   "source": [
    "#TODO загрузить titanik 15 случайных человек и положить для каждого человека выжил он или нет"
   ]
  },
  {
   "cell_type": "markdown",
   "metadata": {},
   "source": [
    "Пишем сервис на flask. Механика сервиса: сервис нужен для агрегации стастики с боевой тачки.\n",
    "\n",
    "1) При старте шлется post /callme запрос с body={'ip': <ваш ip адрес в сети Technoatom>, 'port': <порт, на котором поднят сервис} на адрес <напишу на доске>. (НЕ забываем про заголовки =)\n",
    "\n",
    "2) На GET /check должна возвращаться 200-ка\n",
    "\n",
    "2) У вас должна быть создана таблица в titanik_db{} statistics c полями user_id VARCHAR (100), action INT4, timestamp timestamp. \n",
    "\n",
    "3) Ваш сервис должен уметь обрабатывать post запрос /stat, в body которого содержится {\"user\": <user_id>, \"action\": int4} и класть этот запрос в таблицу statistics с текущим timestamp. Записи о юзерах НЕ должны перетираться (юзер i может совершить действие k сколько угодно раз, просто в разное время)\n",
    "\n",
    "4) Ваш сервис должен уметь обрабатывать get заропс /stat, по которому должны отдаваться {\"user\": <user_id>, \"action\": <action , \"ts\": timestamp} последнего события, которое приходило к вам на сервис. Хранить их можно в редисе в дефолтной базе по ключу student{}stat "
   ]
  }
 ],
 "metadata": {
  "kernelspec": {
   "display_name": "Python 3",
   "language": "python",
   "name": "python3"
  },
  "language_info": {
   "codemirror_mode": {
    "name": "ipython",
    "version": 3
   },
   "file_extension": ".py",
   "mimetype": "text/x-python",
   "name": "python",
   "nbconvert_exporter": "python",
   "pygments_lexer": "ipython3",
   "version": "3.7.4"
  }
 },
 "nbformat": 4,
 "nbformat_minor": 2
}
