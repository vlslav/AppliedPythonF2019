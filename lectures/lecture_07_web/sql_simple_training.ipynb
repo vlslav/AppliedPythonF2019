{
 "cells": [
  {
   "cell_type": "code",
   "execution_count": null,
   "metadata": {},
   "outputs": [],
   "source": [
    "#!sudo apt-get install libpq-dev -y\n",
    "!pip install psycopg2"
   ]
  },
  {
   "cell_type": "markdown",
   "metadata": {},
   "source": [
    "# General psql queries"
   ]
  },
  {
   "cell_type": "code",
   "execution_count": null,
   "metadata": {},
   "outputs": [],
   "source": [
    "import psycopg2"
   ]
  },
  {
   "cell_type": "code",
   "execution_count": null,
   "metadata": {},
   "outputs": [],
   "source": [
    "#открываем соединение\n",
    "conn_string=\"dbname='{}' user='{}' host='{}' password='{}'\".format(\"titanik_db{}\", \"student{}\",\n",
    "                                                                  \"\",\n",
    "                                                                  \"student{}\")\n",
    "conn = psycopg2.connect(conn_string)\n",
    "cursor = conn.cursor()"
   ]
  },
  {
   "cell_type": "markdown",
   "metadata": {},
   "source": [
    "# Создаем таблицы в базе"
   ]
  },
  {
   "cell_type": "code",
   "execution_count": null,
   "metadata": {},
   "outputs": [],
   "source": [
    "import pandas as pd\n",
    "from sklearn.preprocessing import LabelEncoder\n",
    "\n",
    "data = pd.read_csv(\"../lecture_05_ml/notebooks/titanik.tsv\", sep='|', index_col=0)\n",
    "data['prename'] = data['name'].apply(lambda x: x.split()[1].strip(\".\"))\n",
    "data['pclass'] = data['pclass'].apply(str)\n",
    "data['age'].fillna(0, inplace=True)\n",
    "data['age'] = data['age'].apply(float)\n",
    "data['fare'].fillna(0, inplace=True)\n",
    "data['fare'] = data['fare'].apply(float)\n",
    "data['embarked'].fillna(\"None\", inplace=True)\n",
    "\n",
    "lbl_embarked = LabelEncoder().fit(data['embarked'])\n",
    "lbl_pclass = LabelEncoder().fit(data['pclass'])\n",
    "lbl_prename = LabelEncoder().fit(data['prename'])\n",
    "lbl_sex = LabelEncoder().fit(data['sex'])\n",
    "\n",
    "data['embarked'] = lbl_embarked.transform(data['embarked'])\n",
    "data['pclass'] = lbl_pclass.transform(data['pclass'])\n",
    "data['prename'] = lbl_prename.transform(data['prename'])\n",
    "data['sex'] = lbl_sex.transform(data['sex'])\n",
    "\n",
    "data.head()"
   ]
  },
  {
   "cell_type": "code",
   "execution_count": null,
   "metadata": {},
   "outputs": [],
   "source": [
    "# Создадим впомогательные таблицы и заполним их\n",
    "create_additional = '''\n",
    "        CREATE TABLE embarked (\n",
    "        embarked_id serial PRIMARY KEY,\n",
    "        embarked_type VARCHAR(10) NOT NULL UNIQUE\n",
    "        );\n",
    "        CREATE TABLE pclass (\n",
    "        pclass_id serial PRIMARY KEY,\n",
    "        pclass_type VARCHAR(10) NOT NULL UNIQUE\n",
    "        );\n",
    "        '''\n",
    "cursor.execute(create_additional)\n",
    "conn.commit()"
   ]
  },
  {
   "cell_type": "code",
   "execution_count": null,
   "metadata": {},
   "outputs": [],
   "source": [
    "insert_query = '''INSERT INTO embarked (embarked_id, embarked_type) VALUES (%s, %s)''';\n",
    "cursor.executemany(insert_query, list(zip(range(len(lbl_embarked.classes_)), lbl_embarked.classes_)))\n",
    "conn.commit()\n",
    "insert_query = '''INSERT INTO pclass (pclass_id, pclass_type) VALUES (%s, %s)''';\n",
    "cursor.executemany(insert_query, list(zip(range(len(lbl_pclass.classes_)), lbl_pclass.classes_)))\n",
    "conn.commit()"
   ]
  },
  {
   "cell_type": "code",
   "execution_count": null,
   "metadata": {},
   "outputs": [],
   "source": [
    "#TODO Создайте таблицу для prename (и заполните её)"
   ]
  },
  {
   "cell_type": "code",
   "execution_count": null,
   "metadata": {},
   "outputs": [],
   "source": [
    "#TODO Создайте таблицу для пола"
   ]
  },
  {
   "cell_type": "code",
   "execution_count": null,
   "metadata": {},
   "outputs": [],
   "source": [
    "data.columns"
   ]
  },
  {
   "cell_type": "code",
   "execution_count": null,
   "metadata": {},
   "outputs": [],
   "source": [
    "data.info()"
   ]
  },
  {
   "cell_type": "code",
   "execution_count": null,
   "metadata": {},
   "outputs": [],
   "source": [
    "#TODO создать основную таблицу"
   ]
  },
  {
   "cell_type": "code",
   "execution_count": null,
   "metadata": {},
   "outputs": [],
   "source": [
    "#TODO вставьте данные из таблицы"
   ]
  },
  {
   "cell_type": "code",
   "execution_count": null,
   "metadata": {},
   "outputs": [],
   "source": [
    "#TODO Вопрос Кого больше мужчин или женщин?"
   ]
  },
  {
   "cell_type": "code",
   "execution_count": null,
   "metadata": {},
   "outputs": [],
   "source": [
    "#TODO Вопрос Какой процент мужчин выжил и какой процент женщин?"
   ]
  },
  {
   "cell_type": "code",
   "execution_count": null,
   "metadata": {},
   "outputs": [],
   "source": [
    "#TODO Что вы можете сказать выживаемости пассижиров разного класса и пола?"
   ]
  }
 ],
 "metadata": {
  "kernelspec": {
   "display_name": "Python 3",
   "language": "python",
   "name": "python3"
  },
  "language_info": {
   "codemirror_mode": {
    "name": "ipython",
    "version": 3
   },
   "file_extension": ".py",
   "mimetype": "text/x-python",
   "name": "python",
   "nbconvert_exporter": "python",
   "pygments_lexer": "ipython3",
   "version": "3.7.3"
  }
 },
 "nbformat": 4,
 "nbformat_minor": 2
}
